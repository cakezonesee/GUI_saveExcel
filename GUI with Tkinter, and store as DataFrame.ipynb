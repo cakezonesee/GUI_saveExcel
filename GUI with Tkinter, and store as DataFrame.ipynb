{
 "cells": [
  {
   "cell_type": "code",
   "execution_count": 52,
   "id": "3674980d",
   "metadata": {},
   "outputs": [],
   "source": [
    "from tkinter import *\n",
    "import pandas as pd\n",
    "from openpyxl import load_workbook"
   ]
  },
  {
   "cell_type": "code",
   "execution_count": 53,
   "id": "635b0a99",
   "metadata": {},
   "outputs": [],
   "source": [
    "window = Tk()"
   ]
  },
  {
   "cell_type": "markdown",
   "id": "8a7f7ec9",
   "metadata": {},
   "source": [
    "# Define function for \"storing name\", \"show the names\", \"save as Excel file\" and \"Update Existing file\""
   ]
  },
  {
   "cell_type": "code",
   "execution_count": 54,
   "id": "95014111",
   "metadata": {},
   "outputs": [],
   "source": [
    "# Declare list to store the input name\n",
    "store = []\n",
    "\n",
    "def store_name():\n",
    "        firstName = first.get()\n",
    "        lastName = last.get()\n",
    "        first.delete(0, \"end\")\n",
    "        last.delete(0, \"end\")\n",
    "        store.append((firstName, lastName))\n",
    "\n",
    "# Show all the names that store in \"store\"\n",
    "def show_name():\n",
    "    for order in range(len(store)):\n",
    "            showName =  Label(window, text = store[order])\n",
    "            showName.grid(row = 6 + order, column = 6)\n",
    "\n",
    "# Create DataFrame from names in \"store\" with 2 columns of \"First Name\" and \"Last Name\"\n",
    "def table():\n",
    "    data = pd.DataFrame(data = store, columns = ['First Name', 'Last Name'])\n",
    "    with pd.ExcelWriter('GUI Store Name.xlsx', engine = 'openpyxl') as excel:\n",
    "        data.to_excel(excel, sheet_name = 'Name', index = False)\n",
    "\n",
    "# Update new input names by append the existing DataFrame in existing Excel file\n",
    "def update():\n",
    "    data = pd.DataFrame(data = store, columns = ['First Name', 'Last Name'])\n",
    "    book = load_workbook('GUI Store Name.xlsx')\n",
    "    with pd.ExcelWriter('GUI Store Name.xlsx', engine = 'openpyxl') as excel:\n",
    "        excel.book = book\n",
    "        excel.sheet = {ws.title: ws for ws in book.worksheets}\n",
    "        data.to_excel(excel, sheet_name = 'Name', startrow = excel.sheet['Name'].max_row, index = False, header = None)\n",
    " "
   ]
  },
  {
   "cell_type": "code",
   "execution_count": 55,
   "id": "96b41b1c",
   "metadata": {},
   "outputs": [],
   "source": [
    "# Create Text call \"First Name\" and \"Last Name\" in front of user entry\n",
    "Label_first = Label(window, text = 'First Name')\n",
    "Label_first.grid(row = 0, column = 0)\n",
    "first = Entry(window, text = 'First Name')\n",
    "first.grid(row = 0, column = 1)\n",
    "\n",
    "Label_last = Label(window, text = 'Last Name')\n",
    "Label_last.grid(row = 1, column = 0)\n",
    "last = Entry(window, text = 'Last Name')\n",
    "last.grid(row = 1, column = 1)"
   ]
  },
  {
   "cell_type": "code",
   "execution_count": 56,
   "id": "d032c64e",
   "metadata": {},
   "outputs": [],
   "source": [
    "# Create buttons for storing name, show names, save as Excel and update Excel\n",
    "btn=Button(window, text='Press Enter', command = store_name, width = 20)\n",
    "btn.grid(row  = 2, column = 6)\n",
    "\n",
    "stn = Button(window, text = \"Show Name\", command =show_name, width = 20)\n",
    "stn.grid(row = 3, column  = 6)\n",
    "\n",
    "satn = Button(window, text = 'Save', command = table, width = 20)\n",
    "satn.grid(row = 4, column = 6)\n",
    "\n",
    "uptn = Button(window, text = 'Update', command = update, width = 20)\n",
    "uptn.grid(row = 5, column = 6)\n",
    "\n",
    "window.mainloop()"
   ]
  },
  {
   "cell_type": "code",
   "execution_count": null,
   "id": "8681da64",
   "metadata": {},
   "outputs": [],
   "source": []
  }
 ],
 "metadata": {
  "kernelspec": {
   "display_name": "Python 3 (ipykernel)",
   "language": "python",
   "name": "python3"
  },
  "language_info": {
   "codemirror_mode": {
    "name": "ipython",
    "version": 3
   },
   "file_extension": ".py",
   "mimetype": "text/x-python",
   "name": "python",
   "nbconvert_exporter": "python",
   "pygments_lexer": "ipython3",
   "version": "3.10.9"
  }
 },
 "nbformat": 4,
 "nbformat_minor": 5
}
